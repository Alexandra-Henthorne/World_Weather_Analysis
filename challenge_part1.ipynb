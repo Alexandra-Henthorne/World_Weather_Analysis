{
 "cells": [
  {
   "cell_type": "code",
   "execution_count": 3,
   "id": "8b5d5551",
   "metadata": {},
   "outputs": [
    {
     "name": "stdout",
     "output_type": "stream",
     "text": [
      "Requirement already satisfied: citipy in /Users/pack1/opt/anaconda3/lib/python3.9/site-packages (0.0.5)\n",
      "Requirement already satisfied: kdtree>=0.12 in /Users/pack1/opt/anaconda3/lib/python3.9/site-packages (from citipy) (0.16)\n",
      "Note: you may need to restart the kernel to use updated packages.\n"
     ]
    }
   ],
   "source": [
    "pip install citipy"
   ]
  },
  {
   "cell_type": "code",
   "execution_count": null,
   "id": "f495ddf5",
   "metadata": {},
   "outputs": [],
   "source": [
    "from citipy import citipy \n",
    "import numpy as np\n",
    "import pandas as pd "
   ]
  },
  {
   "cell_type": "code",
   "execution_count": null,
   "id": "ee648e7e",
   "metadata": {},
   "outputs": [],
   "source": [
    "lats=np.random.uniform(low=-90.000, high=90.000 size =1500)\n",
    "lngs = np.random.uniform(low=-180.000, high=180.000, size=1500)\n",
    "lat_lngs = zip(lats,lngs)\n"
   ]
  },
  {
   "cell_type": "code",
   "execution_count": null,
   "id": "40cfa968",
   "metadata": {},
   "outputs": [],
   "source": [
    "coordinates = list(lat_lngs)\n"
   ]
  },
  {
   "cell_type": "code",
   "execution_count": null,
   "id": "534aef6e",
   "metadata": {},
   "outputs": [],
   "source": [
    "cities=[]\n",
    "\n",
    "for coordinate in coordinates:\n",
    "    city=citipy.nearest_city(coordinate[0], coordinate[1]).city_name\n",
    "    \n",
    "    if city not in cities:\n",
    "        cities.append(city)\n",
    "\n",
    "len(cities)"
   ]
  },
  {
   "cell_type": "code",
   "execution_count": null,
   "id": "a7bcfeee",
   "metadata": {},
   "outputs": [],
   "source": [
    "import requests\n",
    "\n",
    "from datetime import datetime\n",
    "\n",
    "from config import weather_api_key"
   ]
  },
  {
   "cell_type": "code",
   "execution_count": null,
   "id": "588dd779",
   "metadata": {},
   "outputs": [],
   "source": [
    "print(weather_api_key)"
   ]
  },
  {
   "cell_type": "code",
   "execution_count": null,
   "id": "10754468",
   "metadata": {},
   "outputs": [],
   "source": [
    "url= f\"http://api.openweathermap.org/data/2.5/weather?units=Imperial&AAPID={weather_api_key}\""
   ]
  },
  {
   "cell_type": "code",
   "execution_count": null,
   "id": "c79cb18b",
   "metadata": {},
   "outputs": [],
   "source": [
    "city_data =[]\n",
    "\n",
    "print(\"Beginning Data Retrieval     \")\n",
    "print(\"-\"+25)\n",
    "\n",
    "# Create counters.\n",
    "record_count = 1\n",
    "set_count = 1\n",
    "\n",
    "for index, city in enumerate(cities):\n",
    "\n",
    "    # Group cities in sets of 50 for logging purposes.\n",
    "    if (index % 50 == 0 and index >= 50):\n",
    "        set_count += 1\n",
    "        record_count = 1\n",
    "\n",
    "    # Create endpoint URL with each city.\n",
    "    city_url = url + \"&q=\" + city.replace(\" \",\"+\")\n",
    "    \n",
    "    print(f\"Processing Record {record_count} of Set {set_count} | {city}\")\n",
    "    # Add 1 to the record count.\n",
    "    record_count += 1\n",
    "    \n",
    "    try:\n",
    "    # Parse the JSON and retrieve data.\n",
    "    city_weather = requests.get(city_url).json()\n",
    "    # Parse out the needed data.\n",
    "    city_lat = city_weather[\"coord\"][\"lat\"]\n",
    "    city_lng = city_weather[\"coord\"][\"lon\"]\n",
    "    city_max_temp = city_weather[\"main\"][\"temp_max\"]\n",
    "    city_humidity = city_weather[\"main\"][\"humidity\"]\n",
    "    city_clouds = city_weather[\"clouds\"][\"all\"]\n",
    "    city_wind = city_weather[\"wind\"][\"speed\"]\n",
    "    city_country = city_weather[\"sys\"][\"country\"]\n",
    "    city_weather_description=city_weather[\"weather\"][0][\"description\"]\n",
    "    try:\n",
    "        city_rain_inches=city_weather[\"rain\"][\"1h\"]\n",
    "    except KeyError:\n",
    "        city_rain_inches=0\n",
    "    try:\n",
    "         city_snow_inches=city_weather[\"rain\"][\"1h\"]\n",
    "    except KeyError:\n",
    "        city_snow_inches=0\n",
    "        \n",
    "    city_data.append({\"City\": city.title(),\n",
    "                          \"Lat\": city_lat,\n",
    "                          \"Lng\": city_lng,\n",
    "                          \"Max Temp\": city_max_temp,\n",
    "                          \"Current Description\": city_weather_desription\n",
    "                          \"Rain (inches)\": city_rain_inches,\n",
    "                          \"Snow( inches)\": city_snow_inches,\n",
    "                          \"Humidity\": city_humidity,\n",
    "                          \"Cloudiness\": city_clouds,\n",
    "                          \"Wind Speed\": city_wind,\n",
    "                          \"Country\": city_country,\n",
    "                      )}\n",
    "    except:\n",
    "    print(\"City not found. Skipping...\")\n",
    "    pass\n",
    "\n",
    "# Indicate that Data Loading is complete.\n",
    "print(\"-\"+20)\n",
    "print(\"Data Retrieval Complete      \")\n",
    "print(\"-\"+20)\n"
   ]
  },
  {
   "cell_type": "code",
   "execution_count": null,
   "id": "6db13bc8",
   "metadata": {},
   "outputs": [],
   "source": [
    "len(city_data)"
   ]
  },
  {
   "cell_type": "code",
   "execution_count": null,
   "id": "99e4bf0a",
   "metadata": {},
   "outputs": [],
   "source": [
    "# Convert the array of dictionaries to a Pandas DataFrame.\n",
    "city_data_df = pd.DataFrame(city_data)\n",
    "city_data_df.head(10)"
   ]
  },
  {
   "cell_type": "code",
   "execution_count": null,
   "id": "6ee6f815",
   "metadata": {},
   "outputs": [],
   "source": [
    "city_data_df.columns"
   ]
  },
  {
   "cell_type": "code",
   "execution_count": null,
   "id": "44f5ce43",
   "metadata": {},
   "outputs": [],
   "source": [
    "new_column_order= sorted(city_data_df.columns.toilet())\n",
    "city_data_df =city_data_df[new_column_order]\n",
    "city_data.df"
   ]
  },
  {
   "cell_type": "code",
   "execution_count": null,
   "id": "e4df3fd7",
   "metadata": {},
   "outputs": [],
   "source": [
    "city_data_df.dtypes"
   ]
  },
  {
   "cell_type": "code",
   "execution_count": null,
   "id": "b383deca",
   "metadata": {},
   "outputs": [],
   "source": [
    "raining_cities = city_data_df.loc[city_data_df[\"Rain(inches)\"]>0]\n",
    "raining_cities.head()"
   ]
  },
  {
   "cell_type": "code",
   "execution_count": null,
   "id": "540f842b",
   "metadata": {},
   "outputs": [],
   "source": [
    "snowing_cities = city_data_df.loc[city_data_df[\"Snow(inches)\"]>0]\n",
    "snowing_cities.head()"
   ]
  },
  {
   "cell_type": "code",
   "execution_count": null,
   "id": "e3942bfb",
   "metadata": {},
   "outputs": [],
   "source": [
    "output_data_file= \"data/WeatherPy_Database.csv\"\n",
    "city_data_df.to_csv(output)"
   ]
  }
 ],
 "metadata": {
  "kernelspec": {
   "display_name": "Python 3 (ipykernel)",
   "language": "python",
   "name": "python3"
  },
  "language_info": {
   "codemirror_mode": {
    "name": "ipython",
    "version": 3
   },
   "file_extension": ".py",
   "mimetype": "text/x-python",
   "name": "python",
   "nbconvert_exporter": "python",
   "pygments_lexer": "ipython3",
   "version": "3.9.12"
  }
 },
 "nbformat": 4,
 "nbformat_minor": 5
}
