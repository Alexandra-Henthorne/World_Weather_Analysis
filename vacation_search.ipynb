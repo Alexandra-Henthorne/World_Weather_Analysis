{
 "cells": [
  {
   "cell_type": "code",
   "execution_count": null,
   "id": "21fb1dbb",
   "metadata": {},
   "outputs": [],
   "source": [
    "import pandas as pd\n",
    "import  requests\n",
    "import gmaps\n",
    "\n",
    "from config import g_key"
   ]
  },
  {
   "cell_type": "code",
   "execution_count": null,
   "id": "72dcdb0b",
   "metadata": {},
   "outputs": [],
   "source": [
    "city_data_df=pd.read_csv(\"./data/WeatherPy_Database.csv\")\n",
    "city_data_df"
   ]
  },
  {
   "cell_type": "code",
   "execution_count": null,
   "id": "c1bb9a31",
   "metadata": {},
   "outputs": [],
   "source": [
    "city_data_df.dtypes"
   ]
  },
  {
   "cell_type": "code",
   "execution_count": null,
   "id": "a924ae58",
   "metadata": {},
   "outputs": [],
   "source": [
    "gmaps.configure(api_key=gkey)"
   ]
  },
  {
   "cell_type": "code",
   "execution_count": null,
   "id": "792ee016",
   "metadata": {},
   "outputs": [],
   "source": [
    "min_temp = float(input(\"what is the minimum temperature you would like for your vacation\"))\n",
    "max_temp = float(input(\"whar is the maximum temperature you would like for your vacation\"))"
   ]
  },
  {
   "cell_type": "code",
   "execution_count": null,
   "id": "4f82169f",
   "metadata": {},
   "outputs": [],
   "source": [
    "rain_amount=input (\"Do you want it to be raining (yes/no)\")\n",
    "\n",
    "snow_amount=input (\" Do you want it to be snowing (yes/no)\")"
   ]
  },
  {
   "cell_type": "code",
   "execution_count": null,
   "id": "2f03ec1e",
   "metadata": {},
   "outputs": [],
   "source": [
    "if rain_amount ==\"no\" and  snow_amount ==\"no\":\n",
    "    filtered_cities_df = city_data_df.loc[(city_data_df[\"Max Temp\"] <=max_temp) &\n",
    "                                          (city_data_df[\"Max Temp\"]>= min_temp)&\n",
    "                                          (city_data_df[\"Rain (inches)\"]==0)&\n",
    "                                          (city_data_df[\"Snow (inches)\"]==0)]\n",
    "elif rain_amount==\"no\" and snow_amount==\"yes\":\n",
    "        filtered_cities_df = city_data_df.loc[(city_data_df[\"Max Temp\"] <=max_temp) &\n",
    "                                          (city_data_df[\"Max Temp\"]>= min_temp)&\n",
    "                                          (city_data_df[\"Rain (inches)\"]==0)&\n",
    "                                          (city_data_df[\"Snow (inches)\"]>=0.0)]\n",
    "elif rain_amount ==\"yes\" and snow_amount==\"no\":\n",
    "        filtered_cities_df = city_data_df.loc[(city_data_df[\"Max Temp\"] <=max_temp) &\n",
    "                                          (city_data_df[\"Max Temp\"]>= min_temp)&\n",
    "                                          (city_data_df[\"Rain (inches)\"]>0.0)&\n",
    "                                          (city_data_df[\"Snow (inches)\"]==0)]\n",
    "else:\n",
    "        filtered_cities_df = city_data_df.loc[(city_data_df[\"Max Temp\"] <=max_temp) &\n",
    "                                          (city_data_df[\"Max Temp\"]>= min_temp)&\n",
    "                                          (city_data_df[\"Rain (inches)\"]>0)&\n",
    "                                          (city_data_df[\"Snow (inches)\"]>0)]\n",
    "    "
   ]
  },
  {
   "cell_type": "code",
   "execution_count": null,
   "id": "e1fe0771",
   "metadata": {},
   "outputs": [],
   "source": [
    "filtered_cities_df.head()"
   ]
  },
  {
   "cell_type": "code",
   "execution_count": null,
   "id": "21103249",
   "metadata": {},
   "outputs": [],
   "source": [
    "filtered_cities_df.count()"
   ]
  },
  {
   "cell_type": "code",
   "execution_count": null,
   "id": "36694e59",
   "metadata": {},
   "outputs": [],
   "source": [
    "filtered_cities_df= filtered_cities_df.dropna()"
   ]
  },
  {
   "cell_type": "code",
   "execution_count": null,
   "id": "18860b0d",
   "metadata": {},
   "outputs": [],
   "source": [
    "hotel_df = filtered_cities_df[[\"City\",\"Country\",\"Max Temp\",\"Lat\",\"Lng\",]].copy()\n",
    "hotel_df[\"Hotel Name\"]==\"\"\n",
    "hotel_df.head()"
   ]
  },
  {
   "cell_type": "code",
   "execution_count": null,
   "id": "a05d050c",
   "metadata": {},
   "outputs": [],
   "source": [
    "params ={\n",
    "    \"radius\":5000,\n",
    "    \"type\":\"lodging\",\n",
    "    \"key\":g_key\n",
    "}\n",
    "\n",
    "for index, row in hotel_df.iterrows():\n",
    "    lat=row[\"Lat\"]\n",
    "    lng=row[\"Lng\"]\n",
    "    \n",
    "    params[\"location\"]=f\"{lat},{lng}\"\n",
    "    \n",
    "    base_url=\"https://maps.googleapis.com/maps/api/place/nearbysearch/json\"\n",
    "    \n",
    "    hotels = requests.get(base_url, params=params).json()\n",
    "    \n",
    "    try:\n",
    "        hotel_df.loc[index,\"Hotel Name\"]=hotels[\"results\"][0][\"name\"]\n",
    "    except IndexError:\n",
    "        print(\"Hotel Not found...skipping...\")"
   ]
  },
  {
   "cell_type": "code",
   "execution_count": null,
   "id": "da6010d3",
   "metadata": {},
   "outputs": [],
   "source": [
    "hotel_df.head()"
   ]
  },
  {
   "cell_type": "code",
   "execution_count": null,
   "id": "0cfcb401",
   "metadata": {},
   "outputs": [],
   "source": [
    "output_data_file=\"./data/WeatherPy_Vacation.csv\"\n",
    "hotel_df.to_csv(output_data_file, index_label=\"City_ID\")"
   ]
  },
  {
   "cell_type": "code",
   "execution_count": null,
   "id": "9cc4d0aa",
   "metadata": {},
   "outputs": [],
   "source": [
    "vacation_df =pd.read_csv(\"./data/WeatherPy_Vacation.csv\")\n",
    "vacation_df.head()"
   ]
  },
  {
   "cell_type": "code",
   "execution_count": null,
   "id": "be324706",
   "metadata": {},
   "outputs": [],
   "source": [
    "info_box_template = \"\"\"\n",
    "<dl>\n",
    "<dt>Hotel Name</dt><dd>{Hotel Name}</dd>\n",
    "<dt>City</dt><dd>{City}</dd>\n",
    "<dt>Country</dt><dd>{Country}</dd>\n",
    "<dt>Max Temp</dt><dd>{Max Temp} °F</dd>\n",
    "</dl>\n",
    "\"\"\""
   ]
  },
  {
   "cell_type": "code",
   "execution_count": null,
   "id": "15c76d7f",
   "metadata": {},
   "outputs": [],
   "source": [
    "hotel_info = [info_box_template.format(**row) for index, row in hotel_df.iterrows()]\n",
    "locations=vacation_df[[\"Lat\",\"Lng\"]]"
   ]
  },
  {
   "cell_type": "code",
   "execution_count": null,
   "id": "84c1fdf3",
   "metadata": {},
   "outputs": [],
   "source": [
    "marker_layer = gmaps.marker_layer(locations, info_box_content=hotel_info)\n",
    "fig=gmaps.figure()\n",
    "fig.add_layer(marker_layer)\n",
    "\n",
    "fig"
   ]
  },
  {
   "cell_type": "code",
   "execution_count": null,
   "id": "706bd801",
   "metadata": {},
   "outputs": [],
   "source": []
  }
 ],
 "metadata": {
  "kernelspec": {
   "display_name": "Python 3 (ipykernel)",
   "language": "python",
   "name": "python3"
  },
  "language_info": {
   "codemirror_mode": {
    "name": "ipython",
    "version": 3
   },
   "file_extension": ".py",
   "mimetype": "text/x-python",
   "name": "python",
   "nbconvert_exporter": "python",
   "pygments_lexer": "ipython3",
   "version": "3.9.12"
  }
 },
 "nbformat": 4,
 "nbformat_minor": 5
}
